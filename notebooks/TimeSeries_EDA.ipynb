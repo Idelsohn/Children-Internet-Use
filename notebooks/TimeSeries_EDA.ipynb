{
 "cells": [
  {
   "cell_type": "markdown",
   "metadata": {},
   "source": [
    "Different versions "
   ]
  },
  {
   "cell_type": "markdown",
   "metadata": {},
   "source": [
    "V1 - drop all the columns that represent the count elemnt in the describe function. Those column are reddundent\n",
    "broght worse results than before"
   ]
  },
  {
   "cell_type": "code",
   "execution_count": null,
   "metadata": {},
   "outputs": [],
   "source": [
    "train_ts = train_ts.drop(train_ts.iloc[:,1:10].columns,axis=1)\n",
    "test_ts = test_ts.drop(test_ts.iloc[:,1:10].columns,axis=1)"
   ]
  },
  {
   "cell_type": "markdown",
   "metadata": {},
   "source": [
    "V2 - Keep only highly correlated features to target inside the time series dataset"
   ]
  },
  {
   "cell_type": "code",
   "execution_count": null,
   "metadata": {},
   "outputs": [],
   "source": [
    "id_and_target_train = pd.concat([Target_series, train_id], axis=1)\n",
    "\n",
    "train_merged = id_and_target_train.merge(train_ts, on='id', how='left')\n",
    "train_merged.drop('id',axis=1,inplace=True)\n",
    "temp_corr = train_merged.corr()\n",
    "#temp_corr[\"sii\"].sort_values(ascending=False)\n",
    "\n",
    "filtered_series = temp_corr[\"sii\"][abs(temp_corr[\"sii\"]) > 0.08]\n",
    "row_names = filtered_series.index.tolist()\n",
    "row_names.remove('sii')\n",
    "train_ts[row_names]"
   ]
  }
 ],
 "metadata": {
  "kernelspec": {
   "display_name": "base",
   "language": "python",
   "name": "python3"
  },
  "language_info": {
   "codemirror_mode": {
    "name": "ipython",
    "version": 3
   },
   "file_extension": ".py",
   "mimetype": "text/x-python",
   "name": "python",
   "nbconvert_exporter": "python",
   "pygments_lexer": "ipython3",
   "version": "3.11.4"
  }
 },
 "nbformat": 4,
 "nbformat_minor": 2
}
